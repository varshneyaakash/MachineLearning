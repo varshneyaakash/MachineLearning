{
  "nbformat": 4,
  "nbformat_minor": 0,
  "metadata": {
    "colab": {
      "name": "Dummy.ipynb",
      "version": "0.3.2",
      "provenance": [],
      "collapsed_sections": [],
      "include_colab_link": true
    },
    "kernelspec": {
      "name": "python3",
      "display_name": "Python 3"
    }
  },
  "cells": [
    {
      "cell_type": "markdown",
      "metadata": {
        "id": "view-in-github",
        "colab_type": "text"
      },
      "source": [
        "[View in Colaboratory](https://colab.research.google.com/github/varshneyaakash/MachineLearning/blob/master/FirstNoteboo.ipynb)"
      ]
    },
    {
      "metadata": {
        "id": "8hYBtsRUPajb",
        "colab_type": "code",
        "colab": {}
      },
      "cell_type": "code",
      "source": [
        "import numpy as np\n",
        "import pandas as pd\n",
        "import matplotlib.pyplot as plt\n",
        "from sklearn.preprocessing import StandardScaler\n",
        "from sklearn.model_selection import train_test_split\n",
        "from sklearn.preprocessing import LabelEncoder, OneHotEncoder\n",
        "from sklearn.linear_model import LinearRegression\n",
        "import statsmodels.formula.api as sm"
      ],
      "execution_count": 0,
      "outputs": []
    },
    {
      "metadata": {
        "id": "sHS9Lws3TEKj",
        "colab_type": "code",
        "colab": {}
      },
      "cell_type": "code",
      "source": [
        "dataset = pd.read_csv('sample')\n",
        "dependent = dataset.iloc[:, 4].values\n",
        "#change according to the dataset\n",
        "independent = dataset.iloc[:, :-1].values\n",
        "#change according to the dataset"
      ],
      "execution_count": 0,
      "outputs": []
    },
    {
      "metadata": {
        "id": "48jX0hXnTRfm",
        "colab_type": "code",
        "colab": {}
      },
      "cell_type": "code",
      "source": [
        "label = LabelEncoder()\n",
        "independent[:, 3] = label.fit_transform(independent[:, 3])\n",
        "hot = OneHotEncoder(categorical_features=[3])\n",
        "independent = hot.fit_transform(independent).toarray()\n",
        "independent = independent[:, 1:]\n",
        "#encoding based on categorical variables\n",
        "#will discuss later"
      ],
      "execution_count": 0,
      "outputs": []
    },
    {
      "metadata": {
        "id": "u3GU22pmTfUV",
        "colab_type": "code",
        "colab": {}
      },
      "cell_type": "code",
      "source": [
        "x_train, x_test, y_train, y_test = train_test_split(independent, dependent, random_state=0, test_size=0.25)\n",
        "#test and train data to check"
      ],
      "execution_count": 0,
      "outputs": []
    },
    {
      "metadata": {
        "id": "irEtTFo-Toaq",
        "colab_type": "code",
        "colab": {}
      },
      "cell_type": "code",
      "source": [
        "reg = LinearRegression()\n",
        "reg.fit(x_train, y_train)\n",
        "reg.fit(x_test, reg.predict(x_test))\n",
        "#linear reg as of now, can be changed accordingly"
      ],
      "execution_count": 0,
      "outputs": []
    },
    {
      "metadata": {
        "id": "fsAoVwzsTvFP",
        "colab_type": "code",
        "colab": {}
      },
      "cell_type": "code",
      "source": [
        "independent = np.append(arr=np.ones((50, 1)).astype(int), values=independent, axis=1)\n",
        "inde_sel = independent[:, [0, 1, 2, 3, 4, 5]]\n",
        "reg_o = sm.OLS(endog=independent, exog=inde_sel).fit()\n",
        "print(reg_o.summary())\n",
        "#hit and try"
      ],
      "execution_count": 0,
      "outputs": []
    },
    {
      "metadata": {
        "id": "LQeITiKLT0aK",
        "colab_type": "code",
        "colab": {}
      },
      "cell_type": "code",
      "source": [
        ""
      ],
      "execution_count": 0,
      "outputs": []
    }
  ]
}